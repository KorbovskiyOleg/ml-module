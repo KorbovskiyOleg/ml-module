{
 "cells": [
  {
   "cell_type": "code",
   "id": "f6ddcbed-0535-41be-85a5-bf33b66a2582",
   "metadata": {
    "ExecuteTime": {
     "end_time": "2025-10-04T11:03:48.089742Z",
     "start_time": "2025-10-04T11:03:48.082465Z"
    }
   },
   "source": [
    "import numpy as np\n",
    "import pandas as pd"
   ],
   "outputs": [],
   "execution_count": 3
  },
  {
   "cell_type": "code",
   "id": "3e4bd9dc-c796-4393-9e98-07246606e8bc",
   "metadata": {
    "ExecuteTime": {
     "end_time": "2025-10-04T11:03:48.665083Z",
     "start_time": "2025-10-04T11:03:48.655002Z"
    }
   },
   "source": [
    "x = np.array([[1.2],\n",
    "              [1.3],\n",
    "              [1.4],\n",
    "              [1.5]])\n",
    "x"
   ],
   "outputs": [
    {
     "data": {
      "text/plain": [
       "array([[1.2],\n",
       "       [1.3],\n",
       "       [1.4],\n",
       "       [1.5]])"
      ]
     },
     "execution_count": 4,
     "metadata": {},
     "output_type": "execute_result"
    }
   ],
   "execution_count": 4
  },
  {
   "metadata": {
    "ExecuteTime": {
     "end_time": "2025-10-04T11:03:50.328720Z",
     "start_time": "2025-10-04T11:03:50.323821Z"
    }
   },
   "cell_type": "code",
   "source": [
    "authors = pd.DataFrame({\n",
    "    'author_id': [1,2,3],\n",
    "    'author_name': ['Тургенев', 'Чехов', 'Островский']\n",
    "})"
   ],
   "id": "8017d8089ce80ed2",
   "outputs": [],
   "execution_count": 5
  },
  {
   "metadata": {
    "ExecuteTime": {
     "end_time": "2025-10-04T11:04:27.917761Z",
     "start_time": "2025-10-04T11:04:27.912047Z"
    }
   },
   "cell_type": "code",
   "source": [
    "books = pd.DataFrame({\n",
    "    'author_id': [1,1,1,2,2,3,3],\n",
    "    'book_title': ['Отцы и дети', 'Рудни','Дворянское гнездо', 'Толстый и тонкий', 'Дама с собачкой', 'Гроза', 'Таланты и поклонники'],\n",
    "    'price': [450,300,350,500,450,370,290]\n",
    "})"
   ],
   "id": "72657518a7bb0f77",
   "outputs": [],
   "execution_count": 7
  },
  {
   "metadata": {
    "ExecuteTime": {
     "end_time": "2025-10-04T11:04:53.651521Z",
     "start_time": "2025-10-04T11:04:53.631206Z"
    }
   },
   "cell_type": "code",
   "source": [
    "authors_price = pd.merge(authors,books,on='author_id', how='outer')\n",
    "authors_price"
   ],
   "id": "149ce9c0a114db2e",
   "outputs": [
    {
     "data": {
      "text/plain": [
       "   author_id author_name            book_title  price\n",
       "0          1    Тургенев           Отцы и дети    450\n",
       "1          1    Тургенев                 Рудни    300\n",
       "2          1    Тургенев     Дворянское гнездо    350\n",
       "3          2       Чехов      Толстый и тонкий    500\n",
       "4          2       Чехов       Дама с собачкой    450\n",
       "5          3  Островский                 Гроза    370\n",
       "6          3  Островский  Таланты и поклонники    290"
      ],
      "text/html": [
       "<div>\n",
       "<style scoped>\n",
       "    .dataframe tbody tr th:only-of-type {\n",
       "        vertical-align: middle;\n",
       "    }\n",
       "\n",
       "    .dataframe tbody tr th {\n",
       "        vertical-align: top;\n",
       "    }\n",
       "\n",
       "    .dataframe thead th {\n",
       "        text-align: right;\n",
       "    }\n",
       "</style>\n",
       "<table border=\"1\" class=\"dataframe\">\n",
       "  <thead>\n",
       "    <tr style=\"text-align: right;\">\n",
       "      <th></th>\n",
       "      <th>author_id</th>\n",
       "      <th>author_name</th>\n",
       "      <th>book_title</th>\n",
       "      <th>price</th>\n",
       "    </tr>\n",
       "  </thead>\n",
       "  <tbody>\n",
       "    <tr>\n",
       "      <th>0</th>\n",
       "      <td>1</td>\n",
       "      <td>Тургенев</td>\n",
       "      <td>Отцы и дети</td>\n",
       "      <td>450</td>\n",
       "    </tr>\n",
       "    <tr>\n",
       "      <th>1</th>\n",
       "      <td>1</td>\n",
       "      <td>Тургенев</td>\n",
       "      <td>Рудни</td>\n",
       "      <td>300</td>\n",
       "    </tr>\n",
       "    <tr>\n",
       "      <th>2</th>\n",
       "      <td>1</td>\n",
       "      <td>Тургенев</td>\n",
       "      <td>Дворянское гнездо</td>\n",
       "      <td>350</td>\n",
       "    </tr>\n",
       "    <tr>\n",
       "      <th>3</th>\n",
       "      <td>2</td>\n",
       "      <td>Чехов</td>\n",
       "      <td>Толстый и тонкий</td>\n",
       "      <td>500</td>\n",
       "    </tr>\n",
       "    <tr>\n",
       "      <th>4</th>\n",
       "      <td>2</td>\n",
       "      <td>Чехов</td>\n",
       "      <td>Дама с собачкой</td>\n",
       "      <td>450</td>\n",
       "    </tr>\n",
       "    <tr>\n",
       "      <th>5</th>\n",
       "      <td>3</td>\n",
       "      <td>Островский</td>\n",
       "      <td>Гроза</td>\n",
       "      <td>370</td>\n",
       "    </tr>\n",
       "    <tr>\n",
       "      <th>6</th>\n",
       "      <td>3</td>\n",
       "      <td>Островский</td>\n",
       "      <td>Таланты и поклонники</td>\n",
       "      <td>290</td>\n",
       "    </tr>\n",
       "  </tbody>\n",
       "</table>\n",
       "</div>"
      ]
     },
     "execution_count": 8,
     "metadata": {},
     "output_type": "execute_result"
    }
   ],
   "execution_count": 8
  }
 ],
 "metadata": {
  "kernelspec": {
   "display_name": "Python 3 (ipykernel)",
   "language": "python",
   "name": "python3"
  },
  "language_info": {
   "codemirror_mode": {
    "name": "ipython",
    "version": 3
   },
   "file_extension": ".py",
   "mimetype": "text/x-python",
   "name": "python",
   "nbconvert_exporter": "python",
   "pygments_lexer": "ipython3",
   "version": "3.13.5"
  }
 },
 "nbformat": 4,
 "nbformat_minor": 5
}
